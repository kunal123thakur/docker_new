{
 "cells": [
  {
   "cell_type": "code",
   "execution_count": 3,
   "id": "b56db253",
   "metadata": {},
   "outputs": [],
   "source": [
    "from fastapi import FastAPI\n",
    "from pydantic import BaseModel\n",
    "from langchain_groq import ChatGroq\n",
    "from langchain_core.runnables import RunnableLambda\n",
    "from langchain_core.output_parsers import StrOutputParser\n",
    "from langchain_core.prompts import PromptTemplate\n",
    "import os\n",
    "from dotenv import load_dotenv\n",
    "\n",
    "# Load environment variables\n",
    "load_dotenv()\n",
    "\n",
    "app = FastAPI()\n",
    "\n",
    "# Define request schema\n",
    "class ChatRequest(BaseModel):\n",
    "    query: str\n",
    "\n",
    "# Set up Groq LLM\n",
    "llm = ChatGroq(\n",
    "    temperature=0.7,\n",
    "    model_name=\"Gemma2-9b-it\",\n",
    "    groq_api_key=os.getenv(\"GROQ_API_KEY\")\n",
    ")\n",
    "\n",
    "# Define prompt template\n",
    "prompt = PromptTemplate.from_template(\"You are a helpful assistant. Answer this: {query}\")\n",
    "\n",
    "# Set up LangChain Expression Language Chain (LELC-like structure)\n",
    "chain = prompt | llm | StrOutputParser()\n",
    "\n",
    "@app.post(\"/chat\")\n",
    "async def chat(request: ChatRequest):\n",
    "    response = await chain.ainvoke({\"query\": request.query})\n",
    "    return {\"response\": response}\n"
   ]
  },
  {
   "cell_type": "code",
   "execution_count": 4,
   "id": "520ffb1b",
   "metadata": {},
   "outputs": [
    {
     "data": {
      "text/plain": [
       "'Hello! 👋  How can I help you today? 😊  \\n'"
      ]
     },
     "execution_count": 4,
     "metadata": {},
     "output_type": "execute_result"
    }
   ],
   "source": [
    "chain.invoke(\"hi\")"
   ]
  },
  {
   "cell_type": "code",
   "execution_count": 6,
   "id": "a3fe868a",
   "metadata": {},
   "outputs": [
    {
     "name": "stdout",
     "output_type": "stream",
     "text": [
      "{'response': \"Elon Musk is a highly influential and controversial entrepreneur and businessman. \\n\\nHere are some key points about him:\\n\\n* **Founder and CEO of SpaceX:** A private aerospace manufacturer and space transportation services company with the goal of colonizing Mars.\\n* **CEO and Product Architect of Tesla, Inc.:** An electric vehicle and clean energy company that has revolutionized the automotive industry.\\n* **Owner and CEO of X (formerly Twitter):** A social media platform that has been subject to significant changes under his ownership.\\n* **Founder of The Boring Company:** A tunneling and infrastructure company aiming to reduce traffic congestion.\\n* **Co-founder of Neuralink:** A neurotechnology company developing brain-machine interfaces.\\n* **Co-founder of OpenAI:** A research and deployment company focused on ensuring that artificial general intelligence benefits all of humanity (though he has since stepped down from the board).\\n\\n**Known for:**\\n\\n* **Ambitious Visionary:** Musk is known for his grand ideas and ambitious goals, often pushing the boundaries of what's possible in technology and space exploration.\\n* **Disruptive Innovator:** His companies have disrupted traditional industries, forcing established players to adapt and innovate.\\n* **Controversial Figure:** Musk's outspoken nature, unconventional business practices, and personal life have made him a polarizing figure, drawing both admiration and criticism.\\n\\n**Overall, Elon Musk is a complex and influential individual who has left an undeniable mark on the world through his entrepreneurial ventures and technological innovations.**\\n\"}\n"
     ]
    }
   ],
   "source": [
    "import requests\n",
    "\n",
    "res = requests.post(\"https://docker-new-b41c.onrender.com/chat\", json={\"query\": \"Who is Elon Musk?\"})\n",
    "print(res.json())\n"
   ]
  },
  {
   "cell_type": "code",
   "execution_count": 7,
   "id": "5cd1e39e",
   "metadata": {},
   "outputs": [
    {
     "name": "stdout",
     "output_type": "stream",
     "text": [
      "Elon Musk is a highly influential and controversial entrepreneur and businessman. \n",
      "\n",
      "Here are some key points about him:\n",
      "\n",
      "* **Founder and CEO of SpaceX:** A private aerospace manufacturer and space transportation services company with the goal of colonizing Mars.\n",
      "* **CEO and Product Architect of Tesla, Inc.:** An electric vehicle and clean energy company that has revolutionized the automotive industry.\n",
      "* **Owner and CEO of X (formerly Twitter):** A social media platform that has been subject to significant changes under his ownership.\n",
      "* **Founder of The Boring Company:** A tunneling and infrastructure company aiming to reduce traffic congestion.\n",
      "* **Co-founder of Neuralink:** A neurotechnology company developing brain-machine interfaces.\n",
      "* **Co-founder of OpenAI:** A research and deployment company focused on ensuring that artificial general intelligence benefits all of humanity (though he has since stepped down from the board).\n",
      "\n",
      "**Known for:**\n",
      "\n",
      "* **Ambitious Visionary:** Musk is known for his grand ideas and ambitious goals, often pushing the boundaries of what's possible in technology and space exploration.\n",
      "* **Disruptive Innovator:** His companies have disrupted traditional industries, forcing established players to adapt and innovate.\n",
      "* **Controversial Figure:** Musk's outspoken nature, unconventional business practices, and personal life have made him a polarizing figure, drawing both admiration and criticism.\n",
      "\n",
      "**Overall, Elon Musk is a complex and influential individual who has left an undeniable mark on the world through his entrepreneurial ventures and technological innovations.**\n",
      "\n"
     ]
    }
   ],
   "source": [
    "print(res.json()[\"response\"])"
   ]
  }
 ],
 "metadata": {
  "kernelspec": {
   "display_name": "venv",
   "language": "python",
   "name": "python3"
  },
  "language_info": {
   "codemirror_mode": {
    "name": "ipython",
    "version": 3
   },
   "file_extension": ".py",
   "mimetype": "text/x-python",
   "name": "python",
   "nbconvert_exporter": "python",
   "pygments_lexer": "ipython3",
   "version": "3.11.9"
  }
 },
 "nbformat": 4,
 "nbformat_minor": 5
}
